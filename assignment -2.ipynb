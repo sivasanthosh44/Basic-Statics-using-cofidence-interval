{
 "cells": [
  {
   "cell_type": "code",
   "execution_count": 1,
   "id": "71dec821-1cef-494f-aa9f-01d3561ae38f",
   "metadata": {},
   "outputs": [],
   "source": [
    "import pandas as np\n",
    "import numpy as np\n",
    "import scipy.stats as stats"
   ]
  },
  {
   "cell_type": "code",
   "execution_count": 3,
   "id": "160f399e-bb18-4737-9d34-082aac95b1c6",
   "metadata": {},
   "outputs": [
    {
     "data": {
      "text/plain": [
       "[1.13,\n",
       " 1.55,\n",
       " 1.43,\n",
       " 0.92,\n",
       " 1.25,\n",
       " 1.36,\n",
       " 1.32,\n",
       " 0.85,\n",
       " 1.07,\n",
       " 1.48,\n",
       " 1.2,\n",
       " 1.33,\n",
       " 1.18,\n",
       " 1.22,\n",
       " 1.29]"
      ]
     },
     "execution_count": 3,
     "metadata": {},
     "output_type": "execute_result"
    }
   ],
   "source": [
    "df=[1.13, 1.55, 1.43, 0.92, 1.25, 1.36, 1.32, 0.85, 1.07, 1.48, 1.20, 1.33, 1.18, 1.22, 1.29]\n",
    "df"
   ]
  },
  {
   "cell_type": "code",
   "execution_count": 4,
   "id": "c4f13d8b-b51e-45d4-9414-e930893985fb",
   "metadata": {},
   "outputs": [],
   "source": [
    "n= len(df)"
   ]
  },
  {
   "cell_type": "code",
   "execution_count": 5,
   "id": "122c367e-6082-48c5-9339-75f9e846c612",
   "metadata": {},
   "outputs": [],
   "source": [
    "mean= np.mean(df)"
   ]
  },
  {
   "cell_type": "code",
   "execution_count": 6,
   "id": "ee16279a-b8f6-4eb7-b897-64d3829a79e2",
   "metadata": {},
   "outputs": [],
   "source": [
    "std_dev = np.std(df,ddof=1)"
   ]
  },
  {
   "cell_type": "code",
   "execution_count": 7,
   "id": "ece5cec2-1e80-4201-bdb2-863e81201348",
   "metadata": {},
   "outputs": [],
   "source": [
    "confidence_level= 0.99"
   ]
  },
  {
   "cell_type": "code",
   "execution_count": 8,
   "id": "5bdeaaef-cb28-4edb-a30f-88964f5093e3",
   "metadata": {},
   "outputs": [],
   "source": [
    "df = n-1"
   ]
  },
  {
   "cell_type": "code",
   "execution_count": 10,
   "id": "8f2379e8-2704-45ea-a95c-adcab734638c",
   "metadata": {},
   "outputs": [],
   "source": [
    "t_critical = stats.t.ppf((1+confidence_level)/2,df)"
   ]
  },
  {
   "cell_type": "code",
   "execution_count": 11,
   "id": "610691f9-472c-40f5-92d4-ad9be2c7207e",
   "metadata": {},
   "outputs": [],
   "source": [
    "margin_error = t_critical *(std_dev/np.sqrt(n))"
   ]
  },
  {
   "cell_type": "code",
   "execution_count": 12,
   "id": "ff3d6ffb-f9a1-4157-a91b-7348244ed6f2",
   "metadata": {},
   "outputs": [],
   "source": [
    "lower_bound = mean - margin_error\n",
    "upper_bound = mean + margin_error"
   ]
  },
  {
   "cell_type": "code",
   "execution_count": 19,
   "id": "944ecebb-c755-4906-acd8-29bbcd1cb5aa",
   "metadata": {},
   "outputs": [
    {
     "name": "stdout",
     "output_type": "stream",
     "text": [
      "Sample size (n):15\n"
     ]
    }
   ],
   "source": [
    "print(f\"Sample size (n):{n}\")"
   ]
  },
  {
   "cell_type": "code",
   "execution_count": 20,
   "id": "e16749df-b318-40c6-b03d-cd99b2edf180",
   "metadata": {},
   "outputs": [
    {
     "name": "stdout",
     "output_type": "stream",
     "text": [
      "Sample Mean:1.2387\n"
     ]
    }
   ],
   "source": [
    "print(f\"Sample Mean:{mean:.4f}\")"
   ]
  },
  {
   "cell_type": "code",
   "execution_count": 21,
   "id": "d479e173-cca7-4089-8be3-be446d9c41e6",
   "metadata": {},
   "outputs": [
    {
     "name": "stdout",
     "output_type": "stream",
     "text": [
      "Sample Std Dev:0.1932\n"
     ]
    }
   ],
   "source": [
    "print(f\"Sample Std Dev:{std_dev:.4f}\")"
   ]
  },
  {
   "cell_type": "code",
   "execution_count": 22,
   "id": "c55fb7bc-ea62-47ab-90e1-2ce8d0928428",
   "metadata": {},
   "outputs": [
    {
     "name": "stdout",
     "output_type": "stream",
     "text": [
      "T-Critical value:2.9768\n"
     ]
    }
   ],
   "source": [
    "print(f\"T-Critical value:{t_critical:.4f}\")"
   ]
  },
  {
   "cell_type": "code",
   "execution_count": 23,
   "id": "caf3094f-e3b6-4ca2-82e0-affbad1c4a16",
   "metadata": {},
   "outputs": [
    {
     "name": "stdout",
     "output_type": "stream",
     "text": [
      "Margin of error: 0.1485\n"
     ]
    }
   ],
   "source": [
    "print(f\"Margin of error: {margin_error:.4f}\")"
   ]
  },
  {
   "cell_type": "code",
   "execution_count": 24,
   "id": "7ecbc4f1-9557-4272-acbd-eccecfd45dae",
   "metadata": {},
   "outputs": [
    {
     "name": "stdout",
     "output_type": "stream",
     "text": [
      "99% Cofidence Interval: (1.0902,1.3871)\n"
     ]
    }
   ],
   "source": [
    "print(f\"{int(confidence_level*100)}% Cofidence Interval: ({lower_bound:.4f},{upper_bound:.4f})\")"
   ]
  }
 ],
 "metadata": {
  "kernelspec": {
   "display_name": "Python [conda env:base] *",
   "language": "python",
   "name": "conda-base-py"
  },
  "language_info": {
   "codemirror_mode": {
    "name": "ipython",
    "version": 3
   },
   "file_extension": ".py",
   "mimetype": "text/x-python",
   "name": "python",
   "nbconvert_exporter": "python",
   "pygments_lexer": "ipython3",
   "version": "3.12.7"
  }
 },
 "nbformat": 4,
 "nbformat_minor": 5
}
